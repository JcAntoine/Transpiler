{
  "nbformat": 4,
  "nbformat_minor": 0,
  "metadata": {
    "colab": {
      "name": "Transpiler.ipynb",
      "provenance": [],
      "collapsed_sections": []
    },
    "kernelspec": {
      "name": "python3",
      "display_name": "Python 3"
    },
    "language_info": {
      "name": "python"
    }
  },
  "cells": [
    {
      "cell_type": "code",
      "execution_count": null,
      "metadata": {
        "id": "wwVgtBMAeH5I"
      },
      "outputs": [],
      "source": [
        "import joblib\n",
        "import numpy as np\n",
        "import os\n",
        "import random\n",
        "from sklearn.linear_model import LinearRegression"
      ]
    },
    {
      "cell_type": "code",
      "source": [
        "model_path = \"linreg.joblib\"\n",
        "c_path = \"linreg.c\""
      ],
      "metadata": {
        "id": "oxDOIcs1gjg8"
      },
      "execution_count": null,
      "outputs": []
    },
    {
      "cell_type": "markdown",
      "source": [
        "Linear Regression Creation & Dump"
      ],
      "metadata": {
        "id": "xnbm98Fueljj"
      }
    },
    {
      "cell_type": "code",
      "source": [
        "X = np.array([[random.randint(0, 10), random.randint(0, 10)] for i in range(10)])\n",
        "y = np.dot(X, np.array([random.randint(0, 10), random.randint(0, 10)])) + random.randint(0, 10)\n",
        "reg = LinearRegression().fit(X, y)\n",
        "\n",
        "joblib.dump(reg, model_path)"
      ],
      "metadata": {
        "id": "Y4OJVneDeImL"
      },
      "execution_count": null,
      "outputs": []
    },
    {
      "cell_type": "markdown",
      "source": [
        "Model Loading\n",
        "\n"
      ],
      "metadata": {
        "id": "Fh4eAoopgb31"
      }
    },
    {
      "cell_type": "code",
      "source": [
        "model = joblib.load(model_path)\n",
        "model"
      ],
      "metadata": {
        "id": "pV7-3mYreu5y"
      },
      "execution_count": null,
      "outputs": []
    },
    {
      "cell_type": "markdown",
      "source": [
        "Getting model's parameters"
      ],
      "metadata": {
        "id": "KEscXAcTmUko"
      }
    },
    {
      "cell_type": "code",
      "source": [
        "coeffs, biais = list(model.coef_), model.intercept_\n",
        "coeff_len = len(model.coef_)\n",
        "coeffs, biais, coeff_len"
      ],
      "metadata": {
        "id": "KMfIcu6ggstl"
      },
      "execution_count": null,
      "outputs": []
    },
    {
      "cell_type": "markdown",
      "source": [
        "C Code generation"
      ],
      "metadata": {
        "id": "pvbze6dnmSzj"
      }
    },
    {
      "cell_type": "code",
      "source": [
        "coeff_line = \"\"\n",
        "for coeff in coeffs:\n",
        "  if type(coeff) is int:\n",
        "    coeff_line += f\"{coeff}.f, \"\n",
        "  else:\n",
        "    coeff_line += f\"{coeff}f, \"\n",
        "\n",
        "if type(biais) is int:\n",
        "  coeff_line += f\"{biais}.f\"\n",
        "else:\n",
        "  coeff_line += f\"{biais}f\"\n",
        "\n",
        "c_code = f\"\"\"\n",
        "#include <stdio.h>\n",
        "\n",
        "float predict(float *features) {{\n",
        "    float coeffs[] = {{{coeff_line}}};\n",
        "    size_t coeff_len = {coeff_len};\n",
        "\n",
        "    float result = 0;\n",
        "    for (size_t i = 0; i < coeff_len; ++i) {{\n",
        "        result += coeffs[i] * features[i];\n",
        "    }}\n",
        "    result += coeffs[coeff_len];\n",
        "\n",
        "    return result;\n",
        "}}\n",
        "\n",
        "int main() {{\n",
        "    float features[10] = {{10, 20}};\n",
        "    printf(\"prediction: %f\\\\n\", predict(features));\n",
        "    return 0;\n",
        "}}\n",
        "\"\"\"\n",
        "print(c_code)"
      ],
      "metadata": {
        "id": "7y1ReXYvjoeW"
      },
      "execution_count": null,
      "outputs": []
    },
    {
      "cell_type": "markdown",
      "source": [
        "Saving the generated code"
      ],
      "metadata": {
        "id": "axCi_jOGnqLt"
      }
    },
    {
      "cell_type": "code",
      "source": [
        "with open(c_path, \"w\") as f:\n",
        "    f.write(c_code)"
      ],
      "metadata": {
        "id": "XxMSWkrEntCc"
      },
      "execution_count": null,
      "outputs": []
    },
    {
      "cell_type": "markdown",
      "source": [
        "Prediction"
      ],
      "metadata": {
        "id": "nPRRbVXAnzT-"
      }
    },
    {
      "cell_type": "code",
      "source": [
        "!gcc linreg.c -o linreg"
      ],
      "metadata": {
        "id": "7d_uOPDQg0jF"
      },
      "execution_count": null,
      "outputs": []
    },
    {
      "cell_type": "code",
      "source": [
        "!./linreg"
      ],
      "metadata": {
        "id": "O_aAbumwn9pr"
      },
      "execution_count": null,
      "outputs": []
    },
    {
      "cell_type": "code",
      "source": [
        "X_pred = [[10, 20]]\n",
        "model.predict(X_pred[:coeff_len])"
      ],
      "metadata": {
        "id": "qB7HnNcqo41n"
      },
      "execution_count": null,
      "outputs": []
    },
    {
      "cell_type": "markdown",
      "source": [
        "Our generated C program has the same prediction output than our python regression."
      ],
      "metadata": {
        "id": "OXLMH6qDro6K"
      }
    },
    {
      "cell_type": "code",
      "source": [
        ""
      ],
      "metadata": {
        "id": "Ilg_OAVWuTlR"
      },
      "execution_count": null,
      "outputs": []
    }
  ]
}