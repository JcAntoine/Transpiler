{
 "cells": [
  {
   "cell_type": "code",
   "execution_count": 95,
   "metadata": {
    "id": "wwVgtBMAeH5I"
   },
   "outputs": [],
   "source": [
    "import joblib\n",
    "import numpy as np\n",
    "import os\n",
    "import random\n",
    "from sklearn.linear_model import LinearRegression"
   ]
  },
  {
   "cell_type": "code",
   "execution_count": 96,
   "metadata": {
    "id": "oxDOIcs1gjg8"
   },
   "outputs": [],
   "source": [
    "model_path = \"linreg.joblib\"\n",
    "c_path = \"linreg.c\""
   ]
  },
  {
   "cell_type": "markdown",
   "metadata": {
    "id": "xnbm98Fueljj"
   },
   "source": [
    "Linear Regression Creation & Dump"
   ]
  },
  {
   "cell_type": "code",
   "execution_count": 97,
   "metadata": {
    "colab": {
     "base_uri": "https://localhost:8080/"
    },
    "id": "Y4OJVneDeImL",
    "outputId": "2b520250-6c26-444c-98d6-2e79730ed8ea"
   },
   "outputs": [
    {
     "data": {
      "text/plain": [
       "['linreg.joblib']"
      ]
     },
     "execution_count": 97,
     "metadata": {},
     "output_type": "execute_result"
    }
   ],
   "source": [
    "X = np.array([[random.randint(0, 10), random.randint(0, 10)] for i in range(10)])\n",
    "y = np.dot(X, np.array([random.randint(0, 10), random.randint(0, 10)])) + random.randint(0, 10)\n",
    "reg = LinearRegression().fit(X, y)\n",
    "\n",
    "joblib.dump(reg, model_path)"
   ]
  },
  {
   "cell_type": "markdown",
   "metadata": {
    "id": "Fh4eAoopgb31"
   },
   "source": [
    "Model Loading\n",
    "\n"
   ]
  },
  {
   "cell_type": "code",
   "execution_count": 98,
   "metadata": {
    "colab": {
     "base_uri": "https://localhost:8080/"
    },
    "id": "pV7-3mYreu5y",
    "outputId": "418ef2e3-79b2-4de3-faf5-cbc83991f9ef"
   },
   "outputs": [
    {
     "data": {
      "text/plain": [
       "LinearRegression()"
      ]
     },
     "execution_count": 98,
     "metadata": {},
     "output_type": "execute_result"
    }
   ],
   "source": [
    "model = joblib.load(model_path)\n",
    "model"
   ]
  },
  {
   "cell_type": "markdown",
   "metadata": {
    "id": "KEscXAcTmUko"
   },
   "source": [
    "Getting model's parameters"
   ]
  },
  {
   "cell_type": "code",
   "execution_count": 99,
   "metadata": {
    "colab": {
     "base_uri": "https://localhost:8080/"
    },
    "id": "KMfIcu6ggstl",
    "outputId": "15b4fccc-c83b-4926-be2f-8ccfd9eeb095"
   },
   "outputs": [
    {
     "data": {
      "text/plain": [
       "([5.999999999999998, 3.0000000000000004], 5.000000000000007, 2)"
      ]
     },
     "execution_count": 99,
     "metadata": {},
     "output_type": "execute_result"
    }
   ],
   "source": [
    "coeffs, biais = list(model.coef_), model.intercept_\n",
    "coeff_len = len(model.coef_)\n",
    "coeffs, biais, coeff_len"
   ]
  },
  {
   "cell_type": "markdown",
   "metadata": {
    "id": "pvbze6dnmSzj"
   },
   "source": [
    "C Code generation"
   ]
  },
  {
   "cell_type": "code",
   "execution_count": 100,
   "metadata": {
    "colab": {
     "base_uri": "https://localhost:8080/"
    },
    "id": "7y1ReXYvjoeW",
    "outputId": "3a2668b0-1cc6-4588-fcda-7568a62bee84"
   },
   "outputs": [
    {
     "name": "stdout",
     "output_type": "stream",
     "text": [
      "\n",
      "#include <stdio.h>\n",
      "\n",
      "float predict(float *features) {\n",
      "    float coeffs[] = {5.999999999999998f, 3.0000000000000004f, 5.000000000000007f};\n",
      "    size_t coeff_len = 2;\n",
      "\n",
      "    float result = 0;\n",
      "    for (size_t i = 0; i < coeff_len; ++i) {\n",
      "        result += coeffs[i] * features[i];\n",
      "    }\n",
      "    result += coeffs[coeff_len];\n",
      "\n",
      "    return result;\n",
      "}\n",
      "\n",
      "int main() {\n",
      "    float features[10] = {10, 20};\n",
      "    printf(\"prediction: %f\\n\", predict(features));\n",
      "    return 0;\n",
      "}\n",
      "\n"
     ]
    }
   ],
   "source": [
    "coeff_line = \"\"\n",
    "for coeff in coeffs:\n",
    "  if type(coeff) is int:\n",
    "    coeff_line += f\"{coeff}.f, \"\n",
    "  else:\n",
    "    coeff_line += f\"{coeff}f, \"\n",
    "\n",
    "if type(biais) is int:\n",
    "  coeff_line += f\"{biais}.f\"\n",
    "else:\n",
    "  coeff_line += f\"{biais}f\"\n",
    "\n",
    "c_code = f\"\"\"\n",
    "#include <stdio.h>\n",
    "\n",
    "float predict(float *features) {{\n",
    "    float coeffs[] = {{{coeff_line}}};\n",
    "    size_t coeff_len = {coeff_len};\n",
    "\n",
    "    float result = 0;\n",
    "    for (size_t i = 0; i < coeff_len; ++i) {{\n",
    "        result += coeffs[i] * features[i];\n",
    "    }}\n",
    "    result += coeffs[coeff_len];\n",
    "\n",
    "    return result;\n",
    "}}\n",
    "\n",
    "int main() {{\n",
    "    float features[10] = {{10, 20}};\n",
    "    printf(\"prediction: %f\\\\n\", predict(features));\n",
    "    return 0;\n",
    "}}\n",
    "\"\"\"\n",
    "print(c_code)"
   ]
  },
  {
   "cell_type": "markdown",
   "metadata": {
    "id": "axCi_jOGnqLt"
   },
   "source": [
    "Saving the generated code"
   ]
  },
  {
   "cell_type": "code",
   "execution_count": 101,
   "metadata": {
    "id": "XxMSWkrEntCc"
   },
   "outputs": [],
   "source": [
    "with open(c_path, \"w\") as f:\n",
    "    f.write(c_code)"
   ]
  },
  {
   "cell_type": "markdown",
   "metadata": {
    "id": "nPRRbVXAnzT-"
   },
   "source": [
    "Prediction"
   ]
  },
  {
   "cell_type": "code",
   "execution_count": 102,
   "metadata": {
    "id": "7d_uOPDQg0jF"
   },
   "outputs": [],
   "source": [
    "!gcc linreg.c -o linreg"
   ]
  },
  {
   "cell_type": "code",
   "execution_count": 103,
   "metadata": {
    "colab": {
     "base_uri": "https://localhost:8080/"
    },
    "id": "O_aAbumwn9pr",
    "outputId": "aae9d6df-5d26-4aa7-b057-0a8621921c7c"
   },
   "outputs": [
    {
     "name": "stdout",
     "output_type": "stream",
     "text": [
      "prediction: 125.000000\n"
     ]
    }
   ],
   "source": [
    "!./linreg"
   ]
  },
  {
   "cell_type": "code",
   "execution_count": 104,
   "metadata": {
    "colab": {
     "base_uri": "https://localhost:8080/"
    },
    "id": "qB7HnNcqo41n",
    "outputId": "b6e605ea-09a0-4057-9cc2-6db3e8eb4b24"
   },
   "outputs": [
    {
     "data": {
      "text/plain": [
       "array([125.])"
      ]
     },
     "execution_count": 104,
     "metadata": {},
     "output_type": "execute_result"
    }
   ],
   "source": [
    "X_pred = [[10, 20]]\n",
    "model.predict(X_pred[:coeff_len])"
   ]
  },
  {
   "cell_type": "markdown",
   "metadata": {
    "id": "OXLMH6qDro6K"
   },
   "source": [
    "Our generated C program has the same prediction output than our python regression."
   ]
  },
  {
   "cell_type": "code",
   "execution_count": null,
   "metadata": {
    "id": "Ilg_OAVWuTlR"
   },
   "outputs": [],
   "source": []
  }
 ],
 "metadata": {
  "colab": {
   "collapsed_sections": [],
   "name": "Transpiler.ipynb",
   "provenance": []
  },
  "kernelspec": {
   "display_name": "Python 3",
   "language": "python",
   "name": "python3"
  },
  "language_info": {
   "codemirror_mode": {
    "name": "ipython",
    "version": 3
   },
   "file_extension": ".py",
   "mimetype": "text/x-python",
   "name": "python",
   "nbconvert_exporter": "python",
   "pygments_lexer": "ipython3",
   "version": "3.8.3"
  }
 },
 "nbformat": 4,
 "nbformat_minor": 1
}
